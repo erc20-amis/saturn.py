{
 "cells": [
  {
   "cell_type": "markdown",
   "metadata": {},
   "source": [
    "### Python bot for Saturn Network DEX\n",
    "\n",
    "saturnbot is a fork of https://github.com/WizardsOrb/saturn.py\n",
    "    \n",
    "described in https://www.reddit.com/r/saturnnetwork/ and \n",
    "    \n",
    "in https://www.saturn.network/blog/saturn-py-released/\n",
    "    \n",
    "WIP"
   ]
  },
  {
   "cell_type": "markdown",
   "metadata": {},
   "source": [
    "[![nbviewer](https://img.shields.io/badge/view%20on-nbviewer-brightgreen.svg)](https://nbviewer.jupyter.org/github/erc20-amis/saturnbot/blob/master/saturn.ipynb)\n"
   ]
  },
  {
   "cell_type": "code",
   "execution_count": 19,
   "metadata": {},
   "outputs": [
    {
     "name": "stdout",
     "output_type": "stream",
     "text": [
      "linux\n"
     ]
    }
   ],
   "source": [
    "import sys\n",
    "print(sys.platform)"
   ]
  },
  {
   "cell_type": "code",
   "execution_count": 20,
   "metadata": {},
   "outputs": [
    {
     "name": "stdout",
     "output_type": "stream",
     "text": [
      "Requirement already satisfied: pandas in /srv/conda/envs/notebook/lib/python3.9/site-packages (1.2.2)\r\n",
      "Requirement already satisfied: numpy>=1.16.5 in /srv/conda/envs/notebook/lib/python3.9/site-packages (from pandas) (1.20.1)\r\n",
      "Requirement already satisfied: pytz>=2017.3 in /srv/conda/envs/notebook/lib/python3.9/site-packages (from pandas) (2021.1)\r\n",
      "Requirement already satisfied: python-dateutil>=2.7.3 in /srv/conda/envs/notebook/lib/python3.9/site-packages (from pandas) (2.8.1)\r\n",
      "Requirement already satisfied: six>=1.5 in /srv/conda/envs/notebook/lib/python3.9/site-packages (from python-dateutil>=2.7.3->pandas) (1.15.0)\r\n"
     ]
    }
   ],
   "source": [
    "!pip install pandas"
   ]
  },
  {
   "cell_type": "code",
   "execution_count": null,
   "metadata": {},
   "outputs": [],
   "source": [
    "!pip install jsonschema==2.6.0"
   ]
  },
  {
   "cell_type": "code",
   "execution_count": null,
   "metadata": {},
   "outputs": [],
   "source": [
    "#!pip install git+https://github.com/erc20-amis/saturnbot.git"
   ]
  },
  {
   "cell_type": "code",
   "execution_count": null,
   "metadata": {},
   "outputs": [],
   "source": [
    "!pip install ecdsa==0.14.1\n",
    "!pip install eth-abi==2.1.0\n",
    "!pip install eth-account==0.4.0\n",
    "!pip install eth-hash==0.2.0\n",
    "!pip install eth-keyfile==0.5.1\n",
    "!pip install eth-keys==0.2.4\n",
    "!pip install eth-rlp==0.1.2\n",
    "!pip install eth-typing==2.2.1\n",
    "!pip install eth-utils==1.8.4\n",
    "!pip install ethereum==2.3.2\n",
    "!pip install web3==5.0.0b4"
   ]
  },
  {
   "cell_type": "code",
   "execution_count": null,
   "metadata": {},
   "outputs": [],
   "source": [
    "#!pip install jsonschema\n",
    "#!pip install git+https://github.com/aleaxit/gmpy.git@gmpy2-2.1.0a0\n",
    "\n",
    "!pip list"
   ]
  },
  {
   "cell_type": "code",
   "execution_count": 21,
   "metadata": {},
   "outputs": [
    {
     "name": "stdout",
     "output_type": "stream",
     "text": [
      "\u001b[0m\u001b[01;34mbinder\u001b[0m/  \u001b[01;32mreadme.md\u001b[0m*  requirements.txt  saturn.ipynb  \u001b[01;34msaturnpy\u001b[0m/  \u001b[01;32mtest.py\u001b[0m*\r\n"
     ]
    }
   ],
   "source": [
    "%ls\n"
   ]
  },
  {
   "cell_type": "code",
   "execution_count": 22,
   "metadata": {},
   "outputs": [],
   "source": [
    "from saturnpy import Saturn"
   ]
  },
  {
   "cell_type": "code",
   "execution_count": null,
   "metadata": {},
   "outputs": [],
   "source": []
  },
  {
   "cell_type": "code",
   "execution_count": 23,
   "metadata": {},
   "outputs": [
    {
     "name": "stdout",
     "output_type": "stream",
     "text": [
      "TEST MODE ENABLED, TRANSACTION WONT BE BROADCASTED\n",
      "TRADING WALLET: 0x073172767Cc352404611A7eC3b9Fe77d5C81Dc32\n"
     ]
    }
   ],
   "source": [
    "#!/usr/bin/env python3\n",
    "from saturnpy import Saturn\n",
    "\n",
    "# EDIT / LOAD etcprofile.json or create settings-obj in file.\n",
    "\n",
    "settings = {\n",
    "    \"blockchain\": \"ETC\",\n",
    "    \"apiUrl\": \"https://ticker.saturn.network/api/v2/\",\n",
    "    \"providerUrl\": \"https://etc-rpc.binancechain.io\",\n",
    "    \"mnemonicKey\": \"legal winner thank year wave sausage worth useful legal winner thank yellow\",\n",
    "    \"testMode\": True,\n",
    "    \"DEBUG\": True\n",
    "}\n",
    "\n",
    "#you can also add privateKey to settings\n",
    "\n",
    "# Saturn instances\n",
    "etc = Saturn(settings)"
   ]
  },
  {
   "cell_type": "code",
   "execution_count": 24,
   "metadata": {},
   "outputs": [
    {
     "data": {
      "text/plain": [
       "1000000"
      ]
     },
     "execution_count": 24,
     "metadata": {},
     "output_type": "execute_result"
    }
   ],
   "source": [
    "etc.exchange.getGasPrice(\"etc\")"
   ]
  },
  {
   "cell_type": "code",
   "execution_count": 25,
   "metadata": {},
   "outputs": [],
   "source": [
    "TOKENINFO = etc.query.getTokenInfo(\"0xD8EBe4E6aC8d3c85E2f243e11e8B96C9B12C85Af\")"
   ]
  },
  {
   "cell_type": "code",
   "execution_count": 26,
   "metadata": {},
   "outputs": [
    {
     "data": {
      "text/plain": [
       "{'updated_at': 1613435681,\n",
       " 'address': '0xd8ebe4e6ac8d3c85e2f243e11e8b96c9b12c85af',\n",
       " 'blockchain': 'ETC',\n",
       " 'name': 'AMIS',\n",
       " 'symbol': 'AMIS',\n",
       " 'decimals': 9,\n",
       " 'best_buy_order': '2552',\n",
       " 'best_buy_price': '10',\n",
       " 'best_buy_order_tx': '0x2eeeffc237e1d24f8f8daf58d4761a589b9f9d2f60b62c4fc679887398fb0115',\n",
       " 'best_sell_order': '5178',\n",
       " 'best_sell_price': '0.004',\n",
       " 'best_sell_order_tx': '0xc4abb0350c44ffeff4035640462bce3e0e1f718f54881847e7462c19ccc2ae08',\n",
       " 'total_supply': '660474',\n",
       " 'volume24hr': '0.014',\n",
       " 'price24hr': '0.004',\n",
       " 'dashboard_price': '0.004',\n",
       " 'change_pct': '-0.324127',\n",
       " 'liquidity_depth': {'ether': '73.143494330333', 'tokens': '1639.865432518'},\n",
       " 'atomic_enabled': False}"
      ]
     },
     "execution_count": 26,
     "metadata": {},
     "output_type": "execute_result"
    }
   ],
   "source": [
    "etc.query.getTokenInfo(\"0xD8EBe4E6aC8d3c85E2f243e11e8B96C9B12C85Af\")"
   ]
  },
  {
   "cell_type": "code",
   "execution_count": 27,
   "metadata": {},
   "outputs": [
    {
     "data": {
      "text/plain": [
       "'0x5ef83ab1155786f146c5a00722bef7ab683dc0de'"
      ]
     },
     "execution_count": 27,
     "metadata": {},
     "output_type": "execute_result"
    }
   ],
   "source": [
    "etc.query.getExchangeContract()"
   ]
  },
  {
   "cell_type": "code",
   "execution_count": 28,
   "metadata": {},
   "outputs": [
    {
     "name": "stdout",
     "output_type": "stream",
     "text": [
      "Series([], dtype: float64)\n"
     ]
    }
   ],
   "source": [
    "myorders = etc.query.ordersForAddress(etc.myaddress)\n",
    "print(myorders)"
   ]
  },
  {
   "cell_type": "code",
   "execution_count": 29,
   "metadata": {},
   "outputs": [
    {
     "data": {
      "text/plain": [
       "True"
      ]
     },
     "execution_count": 29,
     "metadata": {},
     "output_type": "execute_result"
    }
   ],
   "source": [
    "etc.exchange.verifyTokenBalance(\"0xac55641cbb734bdf6510d1bbd62e240c2409040f\",1)"
   ]
  },
  {
   "cell_type": "code",
   "execution_count": 30,
   "metadata": {},
   "outputs": [
    {
     "name": "stdout",
     "output_type": "stream",
     "text": [
      "(\"DEBUG: {'chainId': 61, 'gasPrice': 1000000, 'gas': 400000, 'nonce': 226, \"\n",
      " \"'value': 900000000000000, 'to': \"\n",
      " \"'0x5EF83Ab1155786f146c5A00722bEF7aB683Dc0DE', 'data': \"\n",
      " \"'0xcb2bb264000000000000000000000000d8ebe4e6ac8d3c85e2f243e11e8b96c9b12c85af00000000000000000000000000000000000000000000000000000000002dc6c00000000000000000000000000000000000000000000000000000000000000001'}\")\n"
     ]
    },
    {
     "data": {
      "text/plain": [
       "'0x'"
      ]
     },
     "execution_count": 30,
     "metadata": {},
     "output_type": "execute_result"
    }
   ],
   "source": [
    "etc.exchange.newOrder(\"0xD8EBe4E6aC8d3c85E2f243e11e8B96C9B12C85Af\", \"buy\", \"0.3\", \"0.003\")"
   ]
  },
  {
   "cell_type": "code",
   "execution_count": 31,
   "metadata": {},
   "outputs": [
    {
     "name": "stdout",
     "output_type": "stream",
     "text": [
      "(\"DEBUG: {'chainId': 61, 'gasPrice': 1000000, 'gas': 400000, 'nonce': '226', \"\n",
      " \"'value': 900000000000000, 'to': \"\n",
      " \"'0x5EF83Ab1155786f146c5A00722bEF7aB683Dc0DE', 'data': \"\n",
      " \"'0xcb2bb264000000000000000000000000d8ebe4e6ac8d3c85e2f243e11e8b96c9b12c85af00000000000000000000000000000000000000000000000000000000002dc6c00000000000000000000000000000000000000000000000000000000000000001'}\")\n"
     ]
    },
    {
     "data": {
      "text/plain": [
       "'0x'"
      ]
     },
     "execution_count": 31,
     "metadata": {},
     "output_type": "execute_result"
    }
   ],
   "source": [
    "etc.exchange.newBuyOrder(\"0xD8EBe4E6aC8d3c85E2f243e11e8B96C9B12C85Af\", \"0.3\", \"0.003\", \"0x5EF83Ab1155786f146c5A00722bEF7aB683Dc0DE\", \"226\")"
   ]
  },
  {
   "cell_type": "code",
   "execution_count": 32,
   "metadata": {},
   "outputs": [
    {
     "data": {
      "text/plain": [
       "[AttributeDict({'args': AttributeDict({'id': 5178,\n",
       "   'owner': '0x59b8C949D5eB9feE0ba981fc3FDAa9E5B64652CE',\n",
       "   'sellToken': '0xD8EBe4E6aC8d3c85E2f243e11e8B96C9B12C85Af',\n",
       "   'buyToken': '0x0000000000000000000000000000000000000000',\n",
       "   'ring': '0x0000000000000000000000000000000000000000',\n",
       "   'amount': 10000000000,\n",
       "   'priceMul': 1000000000,\n",
       "   'priceDiv': 4000000000000000,\n",
       "   'time': 1613307290}),\n",
       "  'event': 'NewOrder',\n",
       "  'logIndex': 2,\n",
       "  'transactionIndex': 8,\n",
       "  'transactionHash': HexBytes('0xc4abb0350c44ffeff4035640462bce3e0e1f718f54881847e7462c19ccc2ae08'),\n",
       "  'address': '0x5EF83Ab1155786f146c5A00722bEF7aB683Dc0DE',\n",
       "  'blockHash': HexBytes('0xd5ac8ad993fe866351e8f0ef92958416719725023776f3ab5c33af8bb5e5a78f'),\n",
       "  'blockNumber': 12180911})]"
      ]
     },
     "execution_count": 32,
     "metadata": {},
     "output_type": "execute_result"
    }
   ],
   "source": [
    "#DECODEDLOG = \n",
    "etc.exchange.decoder.allEvents(TOKENINFO[\"best_sell_order_tx\"])"
   ]
  },
  {
   "cell_type": "code",
   "execution_count": 12,
   "metadata": {},
   "outputs": [
    {
     "name": "stdout",
     "output_type": "stream",
     "text": [
      "'DEBUG: nearestTrade = 5500000000'\n",
      "'DEBUG: amount = 300000000000'\n",
      "'DEBUG: newEtherTrade, amount = 5500000000'\n",
      "'DEBUG: newEtherTrade, requiredEtherAmount = 22055137844611528'\n",
      "(\"DEBUG: {'chainId': 61, 'gasPrice': 1000000, 'gas': 400000, 'nonce': 226, \"\n",
      " \"'value': 22055137844611528, 'to': \"\n",
      " \"'0x5EF83Ab1155786f146c5A00722bEF7aB683Dc0DE', 'data': \"\n",
      " \"'0xa4ff9c34000000000000000000000000000000000000000000000000000000000000143a'}\")\n"
     ]
    },
    {
     "data": {
      "text/plain": [
       "'0x'"
      ]
     },
     "execution_count": 12,
     "metadata": {},
     "output_type": "execute_result"
    }
   ],
   "source": [
    "etc.exchange.newTrade(\"300\", \"0xc4abb0350c44ffeff4035640462bce3e0e1f718f54881847e7462c19ccc2ae08\")"
   ]
  },
  {
   "cell_type": "code",
   "execution_count": 13,
   "metadata": {},
   "outputs": [
    {
     "data": {
      "text/plain": [
       "{'mul': 1000000000, 'id': 5178, 'div': 4000000000000000}"
      ]
     },
     "execution_count": 13,
     "metadata": {},
     "output_type": "execute_result"
    }
   ],
   "source": [
    "#PR = \n",
    "etc.exchange.decoder.getIntegerPrice(TOKENINFO[\"best_sell_order_tx\"])"
   ]
  },
  {
   "cell_type": "code",
   "execution_count": 14,
   "metadata": {},
   "outputs": [
    {
     "data": {
      "text/plain": [
       "{'created_at': 1613307290,\n",
       " 'updated_at': 1613435512,\n",
       " 'transaction': '0xc4abb0350c44ffeff4035640462bce3e0e1f718f54881847e7462c19ccc2ae08',\n",
       " 'blockchain': 'ETC',\n",
       " 'order_id': '5178',\n",
       " 'blocknumber': '12180911',\n",
       " 'contract': '0x5ef83ab1155786f146c5a00722bef7ab683dc0de',\n",
       " 'owner': '0x59b8c949d5eb9fee0ba981fc3fdaa9e5b64652ce',\n",
       " 'active': True,\n",
       " 'buytoken': {'address': '0x0000000000000000000000000000000000000000',\n",
       "  'decimals': 18,\n",
       "  'blockchain': 'ETC',\n",
       "  'name': 'Classic Ether',\n",
       "  'symbol': 'ETC'},\n",
       " 'selltoken': {'address': '0xd8ebe4e6ac8d3c85e2f243e11e8b96c9b12c85af',\n",
       "  'decimals': 9,\n",
       "  'blockchain': 'ETC',\n",
       "  'name': 'AMIS',\n",
       "  'symbol': 'AMIS'},\n",
       " 'balance': '5.5',\n",
       " 'etherbalance': '0.022',\n",
       " 'price': '0.004',\n",
       " 'type': 'SELL',\n",
       " 'trades': [{'created_at': 1613429343,\n",
       "   'updated_at': 1613429439,\n",
       "   'id': '96765',\n",
       "   'transaction': '0x6d04c1c73e5b19a74d345b8de8ce2306c48aa0721e2a5b8a8a807baeae0f60d6',\n",
       "   'blockchain': 'ETC',\n",
       "   'order_id': '5178',\n",
       "   'blocknumber': '12189969',\n",
       "   'contract': '0x5ef83ab1155786f146c5a00722bef7ab683dc0de',\n",
       "   'buyer': '0xbe351436eacf26c8c0a27fc786ed42ff6bb42b59',\n",
       "   'seller': '0x59b8c949d5eb9fee0ba981fc3fdaa9e5b64652ce',\n",
       "   'trade_miner_address': '0xbe351436eacf26c8c0a27fc786ed42ff6bb42b59',\n",
       "   'buytoken': {'address': '0x0000000000000000000000000000000000000000',\n",
       "    'decimals': 18,\n",
       "    'blockchain': 'ETC',\n",
       "    'name': 'Classic Ether',\n",
       "    'symbol': 'ETC'},\n",
       "   'selltoken': {'address': '0xd8ebe4e6ac8d3c85e2f243e11e8b96c9b12c85af',\n",
       "    'decimals': 9,\n",
       "    'blockchain': 'ETC',\n",
       "    'name': 'AMIS',\n",
       "    'symbol': 'AMIS'},\n",
       "   'order_type': 'SELL',\n",
       "   'price': '0.004',\n",
       "   'selltokenamount': '2.5',\n",
       "   'buytokenamount': '0.01',\n",
       "   'order_tx': '0xc4abb0350c44ffeff4035640462bce3e0e1f718f54881847e7462c19ccc2ae08',\n",
       "   'order_owner': '0x59b8c949d5eb9fee0ba981fc3fdaa9e5b64652ce',\n",
       "   'suspicious': False,\n",
       "   'trademiningamount': '0.2506',\n",
       "   'liquidity_provider': 'saturn'},\n",
       "  {'created_at': 1613384761,\n",
       "   'updated_at': 1613384938,\n",
       "   'id': '96763',\n",
       "   'transaction': '0x54c16a8e4984a9dd1f1f940d730ee869dee45dc47e8f2a05d92a78e484bbda6a',\n",
       "   'blockchain': 'ETC',\n",
       "   'order_id': '5178',\n",
       "   'blocknumber': '12186738',\n",
       "   'contract': '0x5ef83ab1155786f146c5a00722bef7ab683dc0de',\n",
       "   'buyer': '0xe9b1b92d4d246361a08736b9e8e67a522933cb16',\n",
       "   'seller': '0x59b8c949d5eb9fee0ba981fc3fdaa9e5b64652ce',\n",
       "   'trade_miner_address': '0xe9b1b92d4d246361a08736b9e8e67a522933cb16',\n",
       "   'buytoken': {'address': '0x0000000000000000000000000000000000000000',\n",
       "    'decimals': 18,\n",
       "    'blockchain': 'ETC',\n",
       "    'name': 'Classic Ether',\n",
       "    'symbol': 'ETC'},\n",
       "   'selltoken': {'address': '0xd8ebe4e6ac8d3c85e2f243e11e8b96c9b12c85af',\n",
       "    'decimals': 9,\n",
       "    'blockchain': 'ETC',\n",
       "    'name': 'AMIS',\n",
       "    'symbol': 'AMIS'},\n",
       "   'order_type': 'SELL',\n",
       "   'price': '0.004',\n",
       "   'selltokenamount': '0.5',\n",
       "   'buytokenamount': '0.002',\n",
       "   'order_tx': '0xc4abb0350c44ffeff4035640462bce3e0e1f718f54881847e7462c19ccc2ae08',\n",
       "   'order_owner': '0x59b8c949d5eb9fee0ba981fc3fdaa9e5b64652ce',\n",
       "   'suspicious': False,\n",
       "   'trademiningamount': '0',\n",
       "   'liquidity_provider': 'saturn'},\n",
       "  {'created_at': 1613384904,\n",
       "   'updated_at': 1613384945,\n",
       "   'id': '96764',\n",
       "   'transaction': '0x29d43ebf3d8b6eb624f72cae6e0f2ee0718d420a8f7d6bb82229ca56fe4ae0a8',\n",
       "   'blockchain': 'ETC',\n",
       "   'order_id': '5178',\n",
       "   'blocknumber': '12186741',\n",
       "   'contract': '0x5ef83ab1155786f146c5a00722bef7ab683dc0de',\n",
       "   'buyer': '0xe9b1b92d4d246361a08736b9e8e67a522933cb16',\n",
       "   'seller': '0x59b8c949d5eb9fee0ba981fc3fdaa9e5b64652ce',\n",
       "   'trade_miner_address': '0xe9b1b92d4d246361a08736b9e8e67a522933cb16',\n",
       "   'buytoken': {'address': '0x0000000000000000000000000000000000000000',\n",
       "    'decimals': 18,\n",
       "    'blockchain': 'ETC',\n",
       "    'name': 'Classic Ether',\n",
       "    'symbol': 'ETC'},\n",
       "   'selltoken': {'address': '0xd8ebe4e6ac8d3c85e2f243e11e8b96c9b12c85af',\n",
       "    'decimals': 9,\n",
       "    'blockchain': 'ETC',\n",
       "    'name': 'AMIS',\n",
       "    'symbol': 'AMIS'},\n",
       "   'order_type': 'SELL',\n",
       "   'price': '0.004',\n",
       "   'selltokenamount': '0.5',\n",
       "   'buytokenamount': '0.002',\n",
       "   'order_tx': '0xc4abb0350c44ffeff4035640462bce3e0e1f718f54881847e7462c19ccc2ae08',\n",
       "   'order_owner': '0x59b8c949d5eb9fee0ba981fc3fdaa9e5b64652ce',\n",
       "   'suspicious': False,\n",
       "   'trademiningamount': '0.0501',\n",
       "   'liquidity_provider': 'saturn'},\n",
       "  {'created_at': 1613311714,\n",
       "   'updated_at': 1613398188,\n",
       "   'id': '96753',\n",
       "   'transaction': '0x966affa17d9028b8c4f1d096640ea51ce01983b65c781fc2153e38f22097f02f',\n",
       "   'blockchain': 'ETC',\n",
       "   'order_id': '5178',\n",
       "   'blocknumber': '12181281',\n",
       "   'contract': '0x5ef83ab1155786f146c5a00722bef7ab683dc0de',\n",
       "   'buyer': '0xe9b1b92d4d246361a08736b9e8e67a522933cb16',\n",
       "   'seller': '0x59b8c949d5eb9fee0ba981fc3fdaa9e5b64652ce',\n",
       "   'trade_miner_address': '0xe9b1b92d4d246361a08736b9e8e67a522933cb16',\n",
       "   'buytoken': {'address': '0x0000000000000000000000000000000000000000',\n",
       "    'decimals': 18,\n",
       "    'blockchain': 'ETC',\n",
       "    'name': 'Classic Ether',\n",
       "    'symbol': 'ETC'},\n",
       "   'selltoken': {'address': '0xd8ebe4e6ac8d3c85e2f243e11e8b96c9b12c85af',\n",
       "    'decimals': 9,\n",
       "    'blockchain': 'ETC',\n",
       "    'name': 'AMIS',\n",
       "    'symbol': 'AMIS'},\n",
       "   'order_type': 'SELL',\n",
       "   'price': '0.004',\n",
       "   'selltokenamount': '0.5',\n",
       "   'buytokenamount': '0.002',\n",
       "   'order_tx': '0xc4abb0350c44ffeff4035640462bce3e0e1f718f54881847e7462c19ccc2ae08',\n",
       "   'order_owner': '0x59b8c949d5eb9fee0ba981fc3fdaa9e5b64652ce',\n",
       "   'suspicious': False,\n",
       "   'trademiningamount': '0.0501',\n",
       "   'liquidity_provider': 'saturn'},\n",
       "  {'created_at': 1613311604,\n",
       "   'updated_at': 1613398129,\n",
       "   'id': '96752',\n",
       "   'transaction': '0x3fd976af536fe92c0f5bdacd0e6ab14a5d4eb7e24c3e98b4a273415d9ae8f1c7',\n",
       "   'blockchain': 'ETC',\n",
       "   'order_id': '5178',\n",
       "   'blocknumber': '12181277',\n",
       "   'contract': '0x5ef83ab1155786f146c5a00722bef7ab683dc0de',\n",
       "   'buyer': '0xe9b1b92d4d246361a08736b9e8e67a522933cb16',\n",
       "   'seller': '0x59b8c949d5eb9fee0ba981fc3fdaa9e5b64652ce',\n",
       "   'trade_miner_address': '0xe9b1b92d4d246361a08736b9e8e67a522933cb16',\n",
       "   'buytoken': {'address': '0x0000000000000000000000000000000000000000',\n",
       "    'decimals': 18,\n",
       "    'blockchain': 'ETC',\n",
       "    'name': 'Classic Ether',\n",
       "    'symbol': 'ETC'},\n",
       "   'selltoken': {'address': '0xd8ebe4e6ac8d3c85e2f243e11e8b96c9b12c85af',\n",
       "    'decimals': 9,\n",
       "    'blockchain': 'ETC',\n",
       "    'name': 'AMIS',\n",
       "    'symbol': 'AMIS'},\n",
       "   'order_type': 'SELL',\n",
       "   'price': '0.004',\n",
       "   'selltokenamount': '0.5',\n",
       "   'buytokenamount': '0.002',\n",
       "   'order_tx': '0xc4abb0350c44ffeff4035640462bce3e0e1f718f54881847e7462c19ccc2ae08',\n",
       "   'order_owner': '0x59b8c949d5eb9fee0ba981fc3fdaa9e5b64652ce',\n",
       "   'suspicious': False,\n",
       "   'trademiningamount': '0.0501',\n",
       "   'liquidity_provider': 'saturn'}]}"
      ]
     },
     "execution_count": 14,
     "metadata": {},
     "output_type": "execute_result"
    }
   ],
   "source": [
    "ORDER = etc.query.getOrderByTx(TOKENINFO[\"best_sell_order_tx\"])\n",
    "etc.query.getOrderByTx(TOKENINFO[\"best_sell_order_tx\"])"
   ]
  },
  {
   "cell_type": "code",
   "execution_count": 15,
   "metadata": {},
   "outputs": [
    {
     "name": "stdout",
     "output_type": "stream",
     "text": [
      "'DEBUG: nearestTrade = 5500000000'\n",
      "'DEBUG: amount = 200000000000'\n"
     ]
    },
    {
     "data": {
      "text/plain": [
       "5500000000"
      ]
     },
     "execution_count": 15,
     "metadata": {},
     "output_type": "execute_result"
    }
   ],
   "source": [
    "#VERIFY = \n",
    "etc.exchange.verifyCapacity(\"200.0\", ORDER)"
   ]
  },
  {
   "cell_type": "code",
   "execution_count": null,
   "metadata": {},
   "outputs": [],
   "source": [
    "#!/usr/bin/env python3\n",
    "from saturnpy import Saturn\n",
    "\n",
    "# EDIT / LOAD etcprofile.json or create settings-obj in file.\n",
    "\n",
    "\n",
    "settingsETH = {\n",
    "    \"blockchain\": \"ETH\",\n",
    "    \"apiUrl\": \"https://ticker.saturn.network/api/v2/\",\n",
    "    \"providerUrl\": \"http://localhost:8545\",\n",
    "    \"privateKey\": \"0xKeyToShuttle\",\n",
    "    \"testMode\": True,\n",
    "    \"DEBUG\": True\n",
    "}\n",
    "\n",
    "# Saturn instances\n",
    "etc = Saturn(settings)\n",
    "eth = Saturn(settingsETH)\n",
    "\n",
    "orderbook_saturnetc = etc.query.orderbook(\"0xac55641cbb734bdf6510d1bbd62e240c2409040f\")\n",
    "orderbook_saturneth = eth.query.orderbook(\"0xb9440022a095343b440d590fcd2d7a3794bd76c8\")\n",
    "\n",
    "print(orderbook_saturnetc, orderbook_saturneth)\n",
    "\n",
    "myorders = etc.exchange.ordersForAddress(etc.myaddress)\n",
    "print(myorders)\n",
    "\n",
    "etc.exchange.newOrder(\"0xac55641cbb734bdf6510d1bbd62e240c2409040f\", \"buy\", \"5000\", \"0.0001\")\n",
    "\n",
    "\n",
    "\n",
    "\n",
    "#orderbook = saturn.query.orderbook(\"0xac55641cbb734bdf6510d1bbd62e240c2409040f\")\n",
    "#print(orderbook)\n",
    "\n",
    "#txhash = saturn.exchange.newOrder(\"0xac55641cbb734bdf6510d1bbd62e240c2409040f\", \"buy\", \"0.001\", \"0.00007\")\n",
    "#print(txhash)\n",
    "\n",
    "#tradehash = saturn.exchange.newTrade(\"1\", \"0x682d3a524b93351a57b7f14ea3e9bddfe78309de8d5ee9af9eeb0ce1b24c255a\")\n",
    "#print(tradehash)\n",
    "\n",
    "#Getting token infos\n",
    "tokeninfo = saturn.query.getTokenInfo(\"0xac55641cbb734bdf6510d1bbd62e240c2409040f\")\n",
    "ti = JsonToObject(tokeninfo)\n",
    "pprint.pprint(tokeninfo)\n",
    "\n",
    "tradehash = saturn.exchange.newTrade(\"1\", ti[\"best_sell_order_tx\"])\n",
    "print(tradehash)\n",
    "\n",
    "decodedlog = etc.exchange.decoder.allEvents(ti[\"best_sell_order_tx\"])\n",
    "\n",
    "print(decodedlog)\n",
    "\n",
    "order = etc.query.getOrderByTx(\"0x0c5eaf9ec7c55117bfc69a065b896194de2d17f46cc69920cb7bd265f371847b\")\n",
    "veryfiy = etc.exchange.verifyCapacity(\"200.0\", order)\n",
    "#print(veryfiy)\n",
    "\n",
    "gasPrice = etc.exchange.getGasPrice(\"etc\")\n",
    "print(gasPrice)\n",
    "\n",
    "checkERC = etc.exchange.isERC223(\"0xac55641cbb734bdf6510d1bbd62e240c2409040f\")\n",
    "print(checkERC)"
   ]
  },
  {
   "cell_type": "code",
   "execution_count": null,
   "metadata": {},
   "outputs": [],
   "source": []
  }
 ],
 "metadata": {
  "kernelspec": {
   "display_name": "Python 3",
   "language": "python",
   "name": "python3"
  },
  "language_info": {
   "codemirror_mode": {
    "name": "ipython",
    "version": 3
   },
   "file_extension": ".py",
   "mimetype": "text/x-python",
   "name": "python",
   "nbconvert_exporter": "python",
   "pygments_lexer": "ipython3",
   "version": "3.9.1"
  }
 },
 "nbformat": 4,
 "nbformat_minor": 2
}
