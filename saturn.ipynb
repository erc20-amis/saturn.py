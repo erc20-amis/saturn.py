{
 "cells": [
  {
   "cell_type": "markdown",
   "metadata": {},
   "source": [
    "### Python bot for Saturn Network DEX\n",
    "\n",
    "saturnbot is a fork of https://github.com/WizardsOrb/saturn.py\n",
    "    \n",
    "described in https://www.reddit.com/r/saturnnetwork/ and \n",
    "    \n",
    "in https://www.saturn.network/blog/saturn-py-released/\n",
    "    \n",
    "WIP"
   ]
  },
  {
   "cell_type": "markdown",
   "metadata": {},
   "source": [
    "[![nbviewer](https://img.shields.io/badge/view%20on-nbviewer-brightgreen.svg)](https://nbviewer.jupyter.org/github/erc20-amis/saturnbot/blob/master/saturn.ipynb)\n"
   ]
  },
  {
   "cell_type": "code",
   "execution_count": 19,
   "metadata": {},
   "outputs": [
    {
     "name": "stdout",
     "output_type": "stream",
     "text": [
      "linux\n"
     ]
    }
   ],
   "source": [
    "import sys\n",
    "print(sys.platform)"
   ]
  },
  {
   "cell_type": "code",
   "execution_count": null,
   "metadata": {},
   "outputs": [],
   "source": [
    "!pip install pandas"
   ]
  },
  {
   "cell_type": "code",
   "execution_count": null,
   "metadata": {},
   "outputs": [],
   "source": [
    "!pip install jsonschema==2.6.0"
   ]
  },
  {
   "cell_type": "code",
   "execution_count": null,
   "metadata": {},
   "outputs": [],
   "source": [
    "!pip install ecdsa==0.14.1\n",
    "!pip install eth-abi==2.1.0\n",
    "!pip install eth-account==0.4.0\n",
    "!pip install eth-hash==0.2.0\n",
    "!pip install eth-keyfile==0.5.1\n",
    "!pip install eth-keys==0.2.4\n",
    "!pip install eth-rlp==0.1.2\n",
    "!pip install eth-typing==2.2.1\n",
    "!pip install eth-utils==1.8.4\n",
    "!pip install ethereum==2.3.2\n",
    "!pip install web3==5.0.0b4"
   ]
  },
  {
   "cell_type": "code",
   "execution_count": null,
   "metadata": {},
   "outputs": [],
   "source": [
    "#!pip install git+https://github.com/erc20-amis/saturnbot.git\n",
    "!pip install etherdelta\n",
    "!pip install erc20token"
   ]
  },
  {
   "cell_type": "code",
   "execution_count": null,
   "metadata": {},
   "outputs": [],
   "source": [
    "#!pip install jsonschema\n",
    "#!pip install git+https://github.com/aleaxit/gmpy.git@gmpy2-2.1.0a0\n",
    "\n",
    "!pip list"
   ]
  },
  {
   "cell_type": "code",
   "execution_count": 21,
   "metadata": {},
   "outputs": [
    {
     "name": "stdout",
     "output_type": "stream",
     "text": [
      "\u001b[0m\u001b[01;34mbinder\u001b[0m/  \u001b[01;32mreadme.md\u001b[0m*  requirements.txt  saturn.ipynb  \u001b[01;34msaturnpy\u001b[0m/  \u001b[01;32mtest.py\u001b[0m*\r\n"
     ]
    }
   ],
   "source": [
    "%ls\n"
   ]
  },
  {
   "cell_type": "code",
   "execution_count": 22,
   "metadata": {},
   "outputs": [],
   "source": [
    "from saturnpy import Saturn"
   ]
  },
  {
   "cell_type": "code",
   "execution_count": 42,
   "metadata": {},
   "outputs": [],
   "source": [
    "#from saturnpy import Saturn\n",
    "#import erc20token \n",
    "#import json\n",
    "\n",
    "# Init SDK without a private key (for generic blockchain queries)\n",
    "#token_sdk = erc20token.SDK(provider_endpoint_uri='https://etc-rpc.binancechain.io', contract_address='0x04f72aa40046c5fb3b143aaba3ab64d1a82410a7', contract_abi=json.loads(contract_abi))\n"
   ]
  },
  {
   "cell_type": "code",
   "execution_count": 40,
   "metadata": {},
   "outputs": [],
   "source": [
    "#token_sdk = erc20token.SDK(provider_endpoint_uri='http://localhost:8545' \n",
    "#private_key = 'a60baaa34ed125af0570a3df7d4cd3e80dd5dc5070680573f8de0ecfc1957575'\n",
    "#contract_address = '0x04f72aa40046c5fb3b143aaba3ab64d1a82410a7'\n",
    "#contract_abi = json.loads(contract_abi))"
   ]
  },
  {
   "cell_type": "code",
   "execution_count": 39,
   "metadata": {},
   "outputs": [],
   "source": [
    "# Get Ether balance of my account\n",
    "#eth_balance = token_sdk.get_ether_balance()"
   ]
  },
  {
   "cell_type": "code",
   "execution_count": 51,
   "metadata": {},
   "outputs": [
    {
     "name": "stdout",
     "output_type": "stream",
     "text": [
      "TEST MODE ENABLED, TRANSACTION WONT BE BROADCASTED\n",
      "TRADING WALLET: 0x073172767Cc352404611A7eC3b9Fe77d5C81Dc32\n"
     ]
    }
   ],
   "source": [
    "#!/usr/bin/env python3\n",
    "from saturnpy import Saturn\n",
    "\n",
    "# EDIT / LOAD etcprofile.json or create settings-obj in file.\n",
    "\n",
    "settings = {\n",
    "    \"blockchain\": \"ETC\",\n",
    "    \"apiUrl\": \"https://ticker.saturn.network/api/v2/\",\n",
    "    \"providerUrl\": \"https://etc-rpc.binancechain.io\",\n",
    "    \"mnemonicKey\": \"legal winner thank year wave sausage worth useful legal winner thank yellow\",\n",
    "    \"STRICT\": False,\n",
    "    \"SBTKN\": False,\n",
    "    \"BNDL\": True,\n",
    "    \"testMode\": True,\n",
    "    \"DEBUG\": True\n",
    "}\n",
    "\n",
    "#you can also add privateKey to settings\n",
    "\n",
    "# Saturn instances\n",
    "etc = Saturn(settings)"
   ]
  },
  {
   "cell_type": "code",
   "execution_count": null,
   "metadata": {},
   "outputs": [],
   "source": [
    "etc.wallet."
   ]
  },
  {
   "cell_type": "code",
   "execution_count": 22,
   "metadata": {},
   "outputs": [
    {
     "data": {
      "text/plain": [
       "1000000000"
      ]
     },
     "execution_count": 22,
     "metadata": {},
     "output_type": "execute_result"
    }
   ],
   "source": [
    "etc.exchange.getGasPrice(\"etc\")"
   ]
  },
  {
   "cell_type": "code",
   "execution_count": 11,
   "metadata": {},
   "outputs": [],
   "source": [
    "AMIS = etc.query.getTokenInfo(\"0xD8EBe4E6aC8d3c85E2f243e11e8B96C9B12C85Af\") \n",
    "STRN = etc.query.getTokenInfo(\"0xac55641cbb734bdf6510d1bbd62e240c2409040f\")\n",
    "POW = etc.query.getTokenInfo(\"0x171040cd10f204f3b257e45b41ce65d36150558c\") \n",
    "LCT = etc.query.getTokenInfo(\"0xCA68fE57A0E9987F940Ebcc65fe5F96E7bC30128\")\n",
    "NTRO = etc.query.getTokenInfo(\"0xB932b16ccc42917dF3608bfC1519e948b42fdFD9\")\n",
    "KLOWN = etc.query.getTokenInfo(\"0x2B682bd9d5c31E67a95cbdF0292017C02E51923C\")"
   ]
  },
  {
   "cell_type": "code",
   "execution_count": 12,
   "metadata": {},
   "outputs": [
    {
     "data": {
      "text/plain": [
       "{'updated_at': 1613447971,\n",
       " 'address': '0xac55641cbb734bdf6510d1bbd62e240c2409040f',\n",
       " 'blockchain': 'ETC',\n",
       " 'name': 'Saturn Classic DAO Token',\n",
       " 'symbol': 'STRN',\n",
       " 'decimals': 4,\n",
       " 'best_buy_order': '5189',\n",
       " 'best_buy_price': '0.0000205',\n",
       " 'best_buy_order_tx': '0xdec257389e74b6841e2ef3d3935c60ea79a1b5a9319e4f13ac734162d28ce3bb',\n",
       " 'best_sell_order': '5188',\n",
       " 'best_sell_price': '0.0000275',\n",
       " 'best_sell_order_tx': '0x906cd13fa9e1998462f6dd78cedce077bc857d048f9f0c736018dc2d1e444fec',\n",
       " 'total_supply': '1000000000',\n",
       " 'volume24hr': '0.0747772',\n",
       " 'price24hr': '0.00002262688821752266',\n",
       " 'dashboard_price': '0.00002262688821752266',\n",
       " 'change_pct': '-0.221314',\n",
       " 'liquidity_depth': {'ether': '55.1962001281', 'tokens': '30260718.5854'},\n",
       " 'atomic_enabled': False}"
      ]
     },
     "execution_count": 12,
     "metadata": {},
     "output_type": "execute_result"
    }
   ],
   "source": [
    "STRN"
   ]
  },
  {
   "cell_type": "code",
   "execution_count": 13,
   "metadata": {},
   "outputs": [
    {
     "data": {
      "text/plain": [
       "'0x5ef83ab1155786f146c5a00722bef7ab683dc0de'"
      ]
     },
     "execution_count": 13,
     "metadata": {},
     "output_type": "execute_result"
    }
   ],
   "source": [
    "etc.query.getExchangeContract()"
   ]
  },
  {
   "cell_type": "code",
   "execution_count": 14,
   "metadata": {},
   "outputs": [
    {
     "name": "stdout",
     "output_type": "stream",
     "text": [
      "0    {'created_at': 1613439368, 'updated_at': 16134...\n",
      "dtype: object\n"
     ]
    }
   ],
   "source": [
    "myorders = etc.query.ordersForAddress(etc.myaddress)\n",
    "print(myorders)"
   ]
  },
  {
   "cell_type": "code",
   "execution_count": 15,
   "metadata": {},
   "outputs": [
    {
     "data": {
      "text/plain": [
       "True"
      ]
     },
     "execution_count": 15,
     "metadata": {},
     "output_type": "execute_result"
    }
   ],
   "source": [
    "etc.exchange.verifyTokenBalance(\"0xac55641cbb734bdf6510d1bbd62e240c2409040f\",1)"
   ]
  },
  {
   "cell_type": "code",
   "execution_count": 120,
   "metadata": {},
   "outputs": [
    {
     "name": "stdout",
     "output_type": "stream",
     "text": [
      "(\"DEBUG: {'chainId': 61, 'gasPrice': 1000000000, 'gas': 400000, 'nonce': 241, \"\n",
      " \"'value': 900000000000000, 'to': \"\n",
      " \"'0x5EF83Ab1155786f146c5A00722bEF7aB683Dc0DE', 'data': \"\n",
      " \"'0xcb2bb264000000000000000000000000d8ebe4e6ac8d3c85e2f243e11e8b96c9b12c85af00000000000000000000000000000000000000000000000000000000002dc6c00000000000000000000000000000000000000000000000000000000000000001'}\")\n"
     ]
    },
    {
     "data": {
      "text/plain": [
       "'0x'"
      ]
     },
     "execution_count": 120,
     "metadata": {},
     "output_type": "execute_result"
    }
   ],
   "source": [
    "etc.exchange.newOrder(\"0xD8EBe4E6aC8d3c85E2f243e11e8B96C9B12C85Af\", \"buy\", \"0.03\", \"0.003\")"
   ]
  },
  {
   "cell_type": "code",
   "execution_count": 121,
   "metadata": {},
   "outputs": [
    {
     "name": "stdout",
     "output_type": "stream",
     "text": [
      "(\"DEBUG: {'chainId': 61, 'gasPrice': 1000000000, 'gas': 400000, 'nonce': \"\n",
      " \"'226', 'value': 900000000000000, 'to': \"\n",
      " \"'0x5EF83Ab1155786f146c5A00722bEF7aB683Dc0DE', 'data': \"\n",
      " \"'0xcb2bb264000000000000000000000000d8ebe4e6ac8d3c85e2f243e11e8b96c9b12c85af00000000000000000000000000000000000000000000000000000000002dc6c00000000000000000000000000000000000000000000000000000000000000001'}\")\n"
     ]
    },
    {
     "data": {
      "text/plain": [
       "'0x'"
      ]
     },
     "execution_count": 121,
     "metadata": {},
     "output_type": "execute_result"
    }
   ],
   "source": [
    "etc.exchange.newBuyOrder(\"0xD8EBe4E6aC8d3c85E2f243e11e8B96C9B12C85Af\", \"0.3\", \"0.003\", \"0x5EF83Ab1155786f146c5A00722bEF7aB683Dc0DE\", \"226\")"
   ]
  },
  {
   "cell_type": "code",
   "execution_count": 130,
   "metadata": {},
   "outputs": [
    {
     "data": {
      "text/plain": [
       "[]"
      ]
     },
     "execution_count": 130,
     "metadata": {},
     "output_type": "execute_result"
    }
   ],
   "source": [
    "#DECODEDLOG = \n",
    "etc.exchange.decoder.allEvents(KLOWN[\"best_buy_order_tx\"])"
   ]
  },
  {
   "cell_type": "code",
   "execution_count": 131,
   "metadata": {},
   "outputs": [
    {
     "data": {
      "text/plain": [
       "{'mul': 10000, 'id': 5188, 'div': 27500000000000}"
      ]
     },
     "execution_count": 131,
     "metadata": {},
     "output_type": "execute_result"
    }
   ],
   "source": [
    "#PR = \n",
    "etc.exchange.decoder.getIntegerPrice(STRN[\"best_sell_order_tx\"])"
   ]
  },
  {
   "cell_type": "code",
   "execution_count": 132,
   "metadata": {},
   "outputs": [
    {
     "data": {
      "text/plain": [
       "{'mul': 185000000, 'id': 1017, 'div': 1}"
      ]
     },
     "execution_count": 132,
     "metadata": {},
     "output_type": "execute_result"
    }
   ],
   "source": [
    "etc.exchange.decoder.getIntegerPrice(NTRO[\"best_buy_order_tx\"])"
   ]
  },
  {
   "cell_type": "code",
   "execution_count": 128,
   "metadata": {},
   "outputs": [
    {
     "name": "stdout",
     "output_type": "stream",
     "text": [
      "'DEBUG: nearestTrade = 0'\n",
      "'DEBUG: amount = 10000000'\n"
     ]
    },
    {
     "data": {
      "text/plain": [
       "'0xf84e8bf8132409a33053d320277f57216c232be0eb0a63d1d3e82b5b9f1d6250'"
      ]
     },
     "execution_count": 128,
     "metadata": {},
     "output_type": "execute_result"
    }
   ],
   "source": [
    "etc.exchange.newTrade(\"0.01\", \"0x2eeeffc237e1d24f8f8daf58d4761a589b9f9d2f60b62c4fc679887398fb0115\")"
   ]
  },
  {
   "cell_type": "code",
   "execution_count": 12,
   "metadata": {},
   "outputs": [
    {
     "name": "stdout",
     "output_type": "stream",
     "text": [
      "'DEBUG: nearestTrade = 1000000000'\n",
      "'DEBUG: amount = 1000000000'\n",
      "'DEBUG: newEtherTrade, amount = 1000000000'\n",
      "'DEBUG: newEtherTrade, requiredEtherAmount = 4010025062656641'\n"
     ]
    },
    {
     "data": {
      "text/plain": [
       "'0xcac76682367a1d1398a1a8bb6f1e11cca5a3b629b7f5a7f99eca296251c9c22c'"
      ]
     },
     "execution_count": 12,
     "metadata": {},
     "output_type": "execute_result"
    }
   ],
   "source": [
    "etc.exchange.newTrade(\"1\", \"0x81f6bdc198b42a57156c386a1af5fe5f7bb8c7d0c860bd767710d29aa232dbd0\")"
   ]
  },
  {
   "cell_type": "code",
   "execution_count": 50,
   "metadata": {},
   "outputs": [
    {
     "data": {
      "text/plain": [
       "{'updated_at': 1613447994,\n",
       " 'address': '0xd8ebe4e6ac8d3c85e2f243e11e8b96c9b12c85af',\n",
       " 'blockchain': 'ETC',\n",
       " 'name': 'AMIS',\n",
       " 'symbol': 'AMIS',\n",
       " 'decimals': 9,\n",
       " 'best_buy_order': '2552',\n",
       " 'best_buy_price': '10',\n",
       " 'best_buy_order_tx': '0x2eeeffc237e1d24f8f8daf58d4761a589b9f9d2f60b62c4fc679887398fb0115',\n",
       " 'best_sell_order': '5192',\n",
       " 'best_sell_price': '0.004',\n",
       " 'best_sell_order_tx': '0x81f6bdc198b42a57156c386a1af5fe5f7bb8c7d0c860bd767710d29aa232dbd0',\n",
       " 'total_supply': '660474',\n",
       " 'volume24hr': '0.058',\n",
       " 'price24hr': '0.00446153846153846154',\n",
       " 'dashboard_price': '0.00463157894736842105',\n",
       " 'change_pct': '0.181034',\n",
       " 'liquidity_depth': {'ether': '73.143494330333', 'tokens': '1640.365432518'},\n",
       " 'atomic_enabled': False}"
      ]
     },
     "execution_count": 50,
     "metadata": {},
     "output_type": "execute_result"
    }
   ],
   "source": [
    "AMIS"
   ]
  },
  {
   "cell_type": "code",
   "execution_count": null,
   "metadata": {},
   "outputs": [],
   "source": [
    "etc.query.ohlcv(\"0xd8ebe4e6ac8d3c85e2f243e11e8b96c9b12c85af\")"
   ]
  },
  {
   "cell_type": "code",
   "execution_count": null,
   "metadata": {},
   "outputs": [],
   "source": [
    "etc.query.tradeHistory(\"0xd8ebe4e6ac8d3c85e2f243e11e8b96c9b12c85af\")"
   ]
  },
  {
   "cell_type": "code",
   "execution_count": null,
   "metadata": {},
   "outputs": [],
   "source": [
    "ORDER = etc.query.getOrderByTx(AMIS[\"best_sell_order_tx\"])\n",
    "etc.query.getOrderByTx(POW[\"best_buy_order_tx\"])"
   ]
  },
  {
   "cell_type": "code",
   "execution_count": null,
   "metadata": {},
   "outputs": [],
   "source": []
  },
  {
   "cell_type": "code",
   "execution_count": 15,
   "metadata": {},
   "outputs": [
    {
     "name": "stdout",
     "output_type": "stream",
     "text": [
      "'DEBUG: nearestTrade = 5500000000'\n",
      "'DEBUG: amount = 200000000000'\n"
     ]
    },
    {
     "data": {
      "text/plain": [
       "5500000000"
      ]
     },
     "execution_count": 15,
     "metadata": {},
     "output_type": "execute_result"
    }
   ],
   "source": [
    "#VERIFY = \n",
    "etc.exchange.verifyCapacity(\"200.0\", ORDER)"
   ]
  },
  {
   "cell_type": "code",
   "execution_count": null,
   "metadata": {},
   "outputs": [],
   "source": [
    "#!/usr/bin/env python3\n",
    "from saturnpy import Saturn\n",
    "\n",
    "# EDIT / LOAD etcprofile.json or create settings-obj in file.\n",
    "\n",
    "\n",
    "settings = {\n",
    "    \"blockchain\": \"ETH\",\n",
    "    \"apiUrl\": \"https://ticker.saturn.network/api/v2/\",\n",
    "    \"providerUrl\": \"http://localhost:8545\",\n",
    "    \"privateKey\": \"0xKeyToShuttle\",\n",
    "    \"testMode\": True,\n",
    "    \"DEBUG\": True\n",
    "}\n",
    "\n",
    "# Saturn instances\n",
    "#etc = Saturn(settings)\n",
    "eth = Saturn(settings)\n",
    "\n",
    "#orderbook_saturnetc = etc.query.orderbook(\"0xac55641cbb734bdf6510d1bbd62e240c2409040f\")\n",
    "orderbook_saturneth = eth.query.orderbook(\"0xb9440022a095343b440d590fcd2d7a3794bd76c8\")\n",
    "\n",
    "print(orderbook_saturneth)\n",
    "\n",
    "myorders = eth.exchange.ordersForAddress(eth.myaddress)\n",
    "print(myorders)\n",
    "\n",
    "#eth.exchange.newOrder(\"0xac55641cbb734bdf6510d1bbd62e240c2409040f\", \"buy\", \"5\", \"0.000001\")\n",
    "\n",
    "#orderbook = saturn.query.orderbook(\"0xac55641cbb734bdf6510d1bbd62e240c2409040f\")\n",
    "#print(orderbook)\n",
    "\n",
    "#txhash = saturn.exchange.newOrder(\"0xac55641cbb734bdf6510d1bbd62e240c2409040f\", \"buy\", \"0.001\", \"0.00007\")\n",
    "#print(txhash)\n",
    "\n",
    "#tradehash = saturn.exchange.newTrade(\"1\", \"0x682d3a524b93351a57b7f14ea3e9bddfe78309de8d5ee9af9eeb0ce1b24c255a\")\n",
    "#print(tradehash)\n",
    "\n",
    "#Getting token infos\n",
    "tokeninfo = saturn.query.getTokenInfo(\"0xac55641cbb734bdf6510d1bbd62e240c2409040f\")\n",
    "ti = JsonToObject(tokeninfo)\n",
    "pprint.pprint(tokeninfo)\n",
    "\n",
    "tradehash = saturn.exchange.newTrade(\"1\", ti[\"best_sell_order_tx\"])\n",
    "print(tradehash)\n",
    "\n",
    "decodedlog = eth.exchange.decoder.allEvents(ti[\"best_sell_order_tx\"])\n",
    "\n",
    "print(decodedlog)\n",
    "\n",
    "order = eth.query.getOrderByTx(\"0x0c5eaf9ec7c55117bfc69a065b896194de2d17f46cc69920cb7bd265f371847b\")\n",
    "veryfiy = eth.exchange.verifyCapacity(\"200.0\", order)\n",
    "#print(veryfiy)\n",
    "\n",
    "gasPrice = eth.exchange.getGasPrice(\"eth\")\n",
    "print(gasPrice)\n",
    "\n",
    "checkERC = etc.exchange.isERC223(\"0xac55641cbb734bdf6510d1bbd62e240c2409040f\")\n",
    "print(checkERC)"
   ]
  },
  {
   "cell_type": "code",
   "execution_count": 46,
   "metadata": {},
   "outputs": [
    {
     "ename": "ImportError",
     "evalue": "cannot import name 'collapse_type' from 'eth_abi.abi' (/srv/conda/envs/notebook/lib/python3.9/site-packages/eth_abi/abi.py)",
     "output_type": "error",
     "traceback": [
      "\u001b[0;31m---------------------------------------------------------------------------\u001b[0m",
      "\u001b[0;31mImportError\u001b[0m                               Traceback (most recent call last)",
      "\u001b[0;32m<ipython-input-46-c42d38bee4b8>\u001b[0m in \u001b[0;36m<module>\u001b[0;34m\u001b[0m\n\u001b[0;32m----> 1\u001b[0;31m \u001b[0;32mimport\u001b[0m \u001b[0metherdelta\u001b[0m\u001b[0;34m\u001b[0m\u001b[0;34m\u001b[0m\u001b[0m\n\u001b[0m",
      "\u001b[0;32m/srv/conda/envs/notebook/lib/python3.9/site-packages/etherdelta/__init__.py\u001b[0m in \u001b[0;36m<module>\u001b[0;34m\u001b[0m\n\u001b[1;32m     16\u001b[0m \u001b[0;31m# The functions below are used for our solidity_sha256() function\u001b[0m\u001b[0;34m\u001b[0m\u001b[0;34m\u001b[0m\u001b[0;34m\u001b[0m\u001b[0m\n\u001b[1;32m     17\u001b[0m \u001b[0;31m#from web3.utils.normalizers import abi_ens_resolver\u001b[0m\u001b[0;34m\u001b[0m\u001b[0;34m\u001b[0m\u001b[0;34m\u001b[0m\u001b[0m\n\u001b[0;32m---> 18\u001b[0;31m \u001b[0;32mfrom\u001b[0m \u001b[0mweb3\u001b[0m\u001b[0;34m.\u001b[0m\u001b[0mutils\u001b[0m\u001b[0;34m.\u001b[0m\u001b[0mabi\u001b[0m \u001b[0;32mimport\u001b[0m \u001b[0mmap_abi_data\u001b[0m\u001b[0;34m\u001b[0m\u001b[0;34m\u001b[0m\u001b[0m\n\u001b[0m\u001b[1;32m     19\u001b[0m \u001b[0;32mfrom\u001b[0m \u001b[0meth_utils\u001b[0m \u001b[0;32mimport\u001b[0m \u001b[0madd_0x_prefix\u001b[0m\u001b[0;34m,\u001b[0m \u001b[0mremove_0x_prefix\u001b[0m\u001b[0;34m\u001b[0m\u001b[0;34m\u001b[0m\u001b[0m\n\u001b[1;32m     20\u001b[0m \u001b[0;32mfrom\u001b[0m \u001b[0mweb3\u001b[0m\u001b[0;34m.\u001b[0m\u001b[0mutils\u001b[0m\u001b[0;34m.\u001b[0m\u001b[0mencoding\u001b[0m \u001b[0;32mimport\u001b[0m \u001b[0mhex_encode_abi_type\u001b[0m\u001b[0;34m\u001b[0m\u001b[0;34m\u001b[0m\u001b[0m\n",
      "\u001b[0;32m/srv/conda/envs/notebook/lib/python3.9/site-packages/web3/utils/abi.py\u001b[0m in \u001b[0;36m<module>\u001b[0;34m\u001b[0m\n\u001b[1;32m     10\u001b[0m     \u001b[0mpipe\u001b[0m\u001b[0;34m,\u001b[0m\u001b[0;34m\u001b[0m\u001b[0;34m\u001b[0m\u001b[0m\n\u001b[1;32m     11\u001b[0m )\n\u001b[0;32m---> 12\u001b[0;31m from eth_abi.abi import (\n\u001b[0m\u001b[1;32m     13\u001b[0m     \u001b[0mcollapse_type\u001b[0m\u001b[0;34m,\u001b[0m\u001b[0;34m\u001b[0m\u001b[0;34m\u001b[0m\u001b[0m\n\u001b[1;32m     14\u001b[0m     \u001b[0mprocess_type\u001b[0m\u001b[0;34m,\u001b[0m\u001b[0;34m\u001b[0m\u001b[0;34m\u001b[0m\u001b[0m\n",
      "\u001b[0;31mImportError\u001b[0m: cannot import name 'collapse_type' from 'eth_abi.abi' (/srv/conda/envs/notebook/lib/python3.9/site-packages/eth_abi/abi.py)"
     ]
    }
   ],
   "source": [
    "import etherdelta "
   ]
  },
  {
   "cell_type": "code",
   "execution_count": null,
   "metadata": {},
   "outputs": [],
   "source": []
  },
  {
   "cell_type": "code",
   "execution_count": null,
   "metadata": {},
   "outputs": [],
   "source": []
  }
 ],
 "metadata": {
  "kernelspec": {
   "display_name": "Python 3",
   "language": "python",
   "name": "python3"
  },
  "language_info": {
   "codemirror_mode": {
    "name": "ipython",
    "version": 3
   },
   "file_extension": ".py",
   "mimetype": "text/x-python",
   "name": "python",
   "nbconvert_exporter": "python",
   "pygments_lexer": "ipython3",
   "version": "3.9.1"
  }
 },
 "nbformat": 4,
 "nbformat_minor": 2
}
